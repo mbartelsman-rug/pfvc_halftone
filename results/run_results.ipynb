{
 "cells": [
  {
   "metadata": {
    "ExecuteTime": {
     "end_time": "2024-10-27T09:32:02.739797Z",
     "start_time": "2024-10-27T09:32:02.734341Z"
    }
   },
   "cell_type": "code",
   "source": [
    "import json\n",
    "import os\n",
    "\n",
    "import matplotlib\n",
    "import numpy as np\n",
    "import pandas as pd\n",
    "import matplotlib.pyplot as plt\n",
    "import scipy.stats as stats"
   ],
   "outputs": [],
   "execution_count": 41
  },
  {
   "metadata": {
    "ExecuteTime": {
     "end_time": "2024-10-27T09:32:02.813802Z",
     "start_time": "2024-10-27T09:32:02.807707Z"
    }
   },
   "cell_type": "code",
   "source": [
    "def load_data(directory: str):\n",
    "    all_paths = []\n",
    "    for path in os.listdir(directory):\n",
    "        if not os.path.isdir(directory + \"/\" + path):\n",
    "            all_paths.append(directory + \"/\" + path)\n",
    "            \n",
    "    all_data = []\n",
    "    for path in all_paths:\n",
    "        with open(path, \"r\") as f:\n",
    "            data = json.load(f)\n",
    "            all_data.append(data)\n",
    "            \n",
    "    return all_data"
   ],
   "outputs": [],
   "execution_count": 42
  },
  {
   "metadata": {
    "ExecuteTime": {
     "end_time": "2024-10-27T09:32:03.107363Z",
     "start_time": "2024-10-27T09:32:03.100165Z"
    }
   },
   "cell_type": "code",
   "source": [
    "def get_data_frame(data):\n",
    "    frame = {\n",
    "        \"Image\": dict(),\n",
    "        \"Winner\": dict(),\n",
    "        \"Loser\": dict(),\n",
    "    }\n",
    "    \n",
    "    i = 0\n",
    "    for entry in data:\n",
    "        for task in entry:\n",
    "            if task[\"choice\"] is None:\n",
    "                continue\n",
    "            \n",
    "            frame[\"Winner\"][i] = task[\"left\"] if task[\"choice\"] == 0 else task[\"right\"]\n",
    "            frame[\"Loser\"][i] = task[\"left\"] if task[\"choice\"] == 1 else task[\"right\"]\n",
    "            frame[\"Image\"][i] = task[\"id\"]\n",
    "            i += 1\n",
    "            \n",
    "    return pd.DataFrame(frame)"
   ],
   "outputs": [],
   "execution_count": 43
  },
  {
   "metadata": {
    "ExecuteTime": {
     "end_time": "2024-10-27T09:32:03.172131Z",
     "start_time": "2024-10-27T09:32:03.165567Z"
    }
   },
   "cell_type": "code",
   "source": [
    "def get_winrate(df: pd.DataFrame, labels):\n",
    "    win_frame = df.pivot(columns=[\"Loser\"], values=[\"Winner\"])  # Winners to Loser columns\n",
    "    win_frame = win_frame.droplevel(0, axis=\"columns\")          # Clean column names\n",
    "    win_frame = win_frame.reindex(labels, axis=\"columns\")       # Sort columns\n",
    "    win_frame = win_frame.notna()                               # To boolean\n",
    "    win_frame.index = win_frame.index.map(df[\"Winner\"])         # Label indices\n",
    "    \n",
    "    win_mat = win_frame.groupby(win_frame.index).sum()          # Aggregate columns to win count\n",
    "    cnt_mat = win_mat + win_mat.T                               # Count total matches\n",
    "    prb_mat = win_mat / cnt_mat                                 # Get probability\n",
    "    \n",
    "    return prb_mat"
   ],
   "outputs": [],
   "execution_count": 44
  },
  {
   "metadata": {
    "ExecuteTime": {
     "end_time": "2024-10-27T09:32:03.219145Z",
     "start_time": "2024-10-27T09:32:03.213146Z"
    }
   },
   "cell_type": "code",
   "source": [
    "def get_p_matrix(df: pd.DataFrame, labels):\n",
    "    win_frame = df.pivot(columns=[\"Loser\"], values=[\"Winner\"])  # Winners to Loser columns\n",
    "    win_frame = win_frame.droplevel(0, axis=\"columns\")          # Clean column names\n",
    "    win_frame = win_frame.reindex(labels, axis=\"columns\")       # Sort columns\n",
    "    win_frame = win_frame.notna()                               # To boolean\n",
    "    win_frame.index = win_frame.index.map(df[\"Winner\"])        # Label indices\n",
    "    \n",
    "    win_mat = win_frame.groupby(win_frame.index).sum()         # Aggregate columns to win count\n",
    "    cnt_mat = win_mat + win_mat.T                               # Count total matches\n",
    "    \n",
    "    return win_mat.combine(cnt_mat, lambda ss, ns: ss.combine(ns, lambda s, n: stats.binomtest(int(s), n, p=0.5).pvalue))"
   ],
   "outputs": [],
   "execution_count": 45
  },
  {
   "metadata": {
    "ExecuteTime": {
     "end_time": "2024-10-27T09:32:03.287822Z",
     "start_time": "2024-10-27T09:32:03.279488Z"
    }
   },
   "cell_type": "code",
   "source": [
    "def get_p_ranks(df: pd.DataFrame, ranks: pd.Series):\n",
    "    win_frame = df.pivot(columns=[\"Loser\"], values=[\"Winner\"])  # Winners to Loser columns\n",
    "    win_frame = win_frame.droplevel(0, axis=\"columns\")          # Clean column names\n",
    "    win_frame = win_frame.reindex(labels, axis=\"columns\")       # Sort columns\n",
    "    win_frame = win_frame.notna()                               # To boolean\n",
    "    win_frame.index = win_frame.index.map(df[\"Winner\"])         # Label indices\n",
    "    \n",
    "    win_mat = win_frame.groupby(win_frame.index).sum()          # Aggregate columns to win count\n",
    "    cnt_mat = (win_mat + win_mat.T)                             # Count total matches\n",
    "    win_ser = win_mat.sum(axis=\"columns\")\n",
    "    cnt_ser = cnt_mat.sum(axis=\"columns\")\n",
    "    cnt_ser.index = ranks.index\n",
    "    win_ser.index = ranks.index\n",
    "    \n",
    "    res = [[], []]\n",
    "    for i in range(len(ranks)):\n",
    "        if i - 1 >= 0:\n",
    "            test = stats.binomtest(int(win_ser.iloc[i]), cnt_ser.iloc[i], p=ranks.iloc[i - 1], alternative=\"less\")\n",
    "            print(test.proportion_ci(confidence_level=0.9975).high - test.statistic)\n",
    "            res[1].append(test.proportion_ci(confidence_level=0.9975).high - test.statistic)\n",
    "        else:\n",
    "            res[1].append(0)\n",
    "        if i + 1< len(ranks):\n",
    "            test = stats.binomtest(int(win_ser.iloc[i]), cnt_ser.iloc[i], p=ranks.iloc[i + 1], alternative=\"greater\")\n",
    "            res[0].append(test.statistic - test.proportion_ci(confidence_level=0.9975).low)\n",
    "        else:\n",
    "            res[0].append(0)\n",
    "    \n",
    "    return res"
   ],
   "outputs": [],
   "execution_count": 46
  },
  {
   "metadata": {
    "ExecuteTime": {
     "end_time": "2024-10-27T09:32:03.330149Z",
     "start_time": "2024-10-27T09:32:03.323786Z"
    }
   },
   "cell_type": "code",
   "source": [
    "def get_algo_rate(df: pd.DataFrame, labels):\n",
    "    win_frame = df.pivot(columns=[\"Winner\"], values=[\"Image\"])  # Winners to Loser columns\n",
    "    win_frame = win_frame.droplevel(0, axis=\"columns\")          # Clean column names\n",
    "    win_frame = win_frame.reindex(labels, axis=\"columns\")       # Sort columns\n",
    "    win_frame = win_frame.notna()                               # To boolean\n",
    "    win_frame.index = win_frame.index.map(df[\"Image\"])          # Label indices\n",
    "    \n",
    "    win_mat = win_frame.groupby(win_frame.index).sum()          # Aggregate columns to win count\n",
    "    prb_mat = win_mat               # Get probability\n",
    "    \n",
    "    return prb_mat"
   ],
   "outputs": [],
   "execution_count": 47
  },
  {
   "metadata": {
    "ExecuteTime": {
     "end_time": "2024-10-27T09:32:32.566917Z",
     "start_time": "2024-10-27T09:32:32.562105Z"
    }
   },
   "cell_type": "code",
   "source": "matplotlib.rcParams.update({'font.size': 7})",
   "outputs": [],
   "execution_count": 62
  },
  {
   "metadata": {
    "ExecuteTime": {
     "end_time": "2024-10-27T09:32:03.446930Z",
     "start_time": "2024-10-27T09:32:03.442334Z"
    }
   },
   "cell_type": "code",
   "source": [
    "labels = [\"fs\", \"fs-em\", \"zf\", \"zf-em\", \"x\"]\n",
    "images = [ \"bedouin\", \"botanic\", \"calanque\", \"calculator\", \"carceri\", \"cd\", \"conch\", \"crypt\", \"ernte\", \"espinasse\", \"imaginary\", \"lines\", \"owls\", \"renoir\", \"sagarmatha\", \"snow\", \"text\", \"trefoil\" ]"
   ],
   "outputs": [],
   "execution_count": 49
  },
  {
   "cell_type": "code",
   "metadata": {
    "ExecuteTime": {
     "end_time": "2024-10-27T09:32:03.487361Z",
     "start_time": "2024-10-27T09:32:03.471670Z"
    }
   },
   "source": [
    "raw_data = load_data(\"./data\")\n",
    "frame = get_data_frame(raw_data)\n",
    "frame"
   ],
   "outputs": [
    {
     "data": {
      "text/plain": [
       "          Image Winner  Loser\n",
       "0          snow  fs-em  zf-em\n",
       "1    sagarmatha  fs-em  zf-em\n",
       "2         conch     zf  zf-em\n",
       "3        renoir      x     zf\n",
       "4          owls  fs-em      x\n",
       "..          ...    ...    ...\n",
       "391        owls      x      x\n",
       "392       lines     fs      x\n",
       "393        owls      x     zf\n",
       "394     bedouin  zf-em  zf-em\n",
       "395   espinasse     fs  fs-em\n",
       "\n",
       "[396 rows x 3 columns]"
      ],
      "text/html": [
       "<div>\n",
       "<style scoped>\n",
       "    .dataframe tbody tr th:only-of-type {\n",
       "        vertical-align: middle;\n",
       "    }\n",
       "\n",
       "    .dataframe tbody tr th {\n",
       "        vertical-align: top;\n",
       "    }\n",
       "\n",
       "    .dataframe thead th {\n",
       "        text-align: right;\n",
       "    }\n",
       "</style>\n",
       "<table border=\"1\" class=\"dataframe\">\n",
       "  <thead>\n",
       "    <tr style=\"text-align: right;\">\n",
       "      <th></th>\n",
       "      <th>Image</th>\n",
       "      <th>Winner</th>\n",
       "      <th>Loser</th>\n",
       "    </tr>\n",
       "  </thead>\n",
       "  <tbody>\n",
       "    <tr>\n",
       "      <th>0</th>\n",
       "      <td>snow</td>\n",
       "      <td>fs-em</td>\n",
       "      <td>zf-em</td>\n",
       "    </tr>\n",
       "    <tr>\n",
       "      <th>1</th>\n",
       "      <td>sagarmatha</td>\n",
       "      <td>fs-em</td>\n",
       "      <td>zf-em</td>\n",
       "    </tr>\n",
       "    <tr>\n",
       "      <th>2</th>\n",
       "      <td>conch</td>\n",
       "      <td>zf</td>\n",
       "      <td>zf-em</td>\n",
       "    </tr>\n",
       "    <tr>\n",
       "      <th>3</th>\n",
       "      <td>renoir</td>\n",
       "      <td>x</td>\n",
       "      <td>zf</td>\n",
       "    </tr>\n",
       "    <tr>\n",
       "      <th>4</th>\n",
       "      <td>owls</td>\n",
       "      <td>fs-em</td>\n",
       "      <td>x</td>\n",
       "    </tr>\n",
       "    <tr>\n",
       "      <th>...</th>\n",
       "      <td>...</td>\n",
       "      <td>...</td>\n",
       "      <td>...</td>\n",
       "    </tr>\n",
       "    <tr>\n",
       "      <th>391</th>\n",
       "      <td>owls</td>\n",
       "      <td>x</td>\n",
       "      <td>x</td>\n",
       "    </tr>\n",
       "    <tr>\n",
       "      <th>392</th>\n",
       "      <td>lines</td>\n",
       "      <td>fs</td>\n",
       "      <td>x</td>\n",
       "    </tr>\n",
       "    <tr>\n",
       "      <th>393</th>\n",
       "      <td>owls</td>\n",
       "      <td>x</td>\n",
       "      <td>zf</td>\n",
       "    </tr>\n",
       "    <tr>\n",
       "      <th>394</th>\n",
       "      <td>bedouin</td>\n",
       "      <td>zf-em</td>\n",
       "      <td>zf-em</td>\n",
       "    </tr>\n",
       "    <tr>\n",
       "      <th>395</th>\n",
       "      <td>espinasse</td>\n",
       "      <td>fs</td>\n",
       "      <td>fs-em</td>\n",
       "    </tr>\n",
       "  </tbody>\n",
       "</table>\n",
       "<p>396 rows × 3 columns</p>\n",
       "</div>"
      ]
     },
     "execution_count": 50,
     "metadata": {},
     "output_type": "execute_result"
    }
   ],
   "execution_count": 50
  },
  {
   "metadata": {
    "ExecuteTime": {
     "end_time": "2024-10-27T09:32:03.521706Z",
     "start_time": "2024-10-27T09:32:03.499373Z"
    }
   },
   "cell_type": "code",
   "source": [
    "win_mat = get_winrate(frame, labels)\n",
    "win_mat"
   ],
   "outputs": [
    {
     "data": {
      "text/plain": [
       "             fs     fs-em         x        zf     zf-em\n",
       "fs     0.500000  0.727273  0.594595  0.875000  0.851852\n",
       "fs-em  0.272727  0.500000  0.533333  0.857143  0.685714\n",
       "x      0.405405  0.466667  0.500000  0.848485  0.888889\n",
       "zf     0.125000  0.142857  0.151515  0.500000  0.406250\n",
       "zf-em  0.148148  0.314286  0.111111  0.593750  0.500000"
      ],
      "text/html": [
       "<div>\n",
       "<style scoped>\n",
       "    .dataframe tbody tr th:only-of-type {\n",
       "        vertical-align: middle;\n",
       "    }\n",
       "\n",
       "    .dataframe tbody tr th {\n",
       "        vertical-align: top;\n",
       "    }\n",
       "\n",
       "    .dataframe thead th {\n",
       "        text-align: right;\n",
       "    }\n",
       "</style>\n",
       "<table border=\"1\" class=\"dataframe\">\n",
       "  <thead>\n",
       "    <tr style=\"text-align: right;\">\n",
       "      <th></th>\n",
       "      <th>fs</th>\n",
       "      <th>fs-em</th>\n",
       "      <th>x</th>\n",
       "      <th>zf</th>\n",
       "      <th>zf-em</th>\n",
       "    </tr>\n",
       "  </thead>\n",
       "  <tbody>\n",
       "    <tr>\n",
       "      <th>fs</th>\n",
       "      <td>0.500000</td>\n",
       "      <td>0.727273</td>\n",
       "      <td>0.594595</td>\n",
       "      <td>0.875000</td>\n",
       "      <td>0.851852</td>\n",
       "    </tr>\n",
       "    <tr>\n",
       "      <th>fs-em</th>\n",
       "      <td>0.272727</td>\n",
       "      <td>0.500000</td>\n",
       "      <td>0.533333</td>\n",
       "      <td>0.857143</td>\n",
       "      <td>0.685714</td>\n",
       "    </tr>\n",
       "    <tr>\n",
       "      <th>x</th>\n",
       "      <td>0.405405</td>\n",
       "      <td>0.466667</td>\n",
       "      <td>0.500000</td>\n",
       "      <td>0.848485</td>\n",
       "      <td>0.888889</td>\n",
       "    </tr>\n",
       "    <tr>\n",
       "      <th>zf</th>\n",
       "      <td>0.125000</td>\n",
       "      <td>0.142857</td>\n",
       "      <td>0.151515</td>\n",
       "      <td>0.500000</td>\n",
       "      <td>0.406250</td>\n",
       "    </tr>\n",
       "    <tr>\n",
       "      <th>zf-em</th>\n",
       "      <td>0.148148</td>\n",
       "      <td>0.314286</td>\n",
       "      <td>0.111111</td>\n",
       "      <td>0.593750</td>\n",
       "      <td>0.500000</td>\n",
       "    </tr>\n",
       "  </tbody>\n",
       "</table>\n",
       "</div>"
      ]
     },
     "execution_count": 51,
     "metadata": {},
     "output_type": "execute_result"
    }
   ],
   "execution_count": 51
  },
  {
   "metadata": {
    "ExecuteTime": {
     "end_time": "2024-10-27T09:32:03.603434Z",
     "start_time": "2024-10-27T09:32:03.585040Z"
    }
   },
   "cell_type": "code",
   "source": [
    "img_mat = get_algo_rate(frame, labels)\n",
    "img_mat"
   ],
   "outputs": [
    {
     "data": {
      "text/plain": [
       "Winner      fs  fs-em  zf  zf-em   x\n",
       "bedouin      3      5   0      6   6\n",
       "botanic      8      3   2      5   3\n",
       "calanque     6      5   1      4   5\n",
       "calculator   6      5   2      1   8\n",
       "carceri      4      7   4      2   3\n",
       "cd           5      7   3      4   8\n",
       "conch        5      5   7      2   7\n",
       "crypt        8      2   3      4   5\n",
       "ernte        5      9   1      1   5\n",
       "espinasse   11      4   2      2   3\n",
       "imaginary    1      4   0      4  10\n",
       "lines        8      3   1      2   6\n",
       "owls         7      6   0      2   9\n",
       "renoir       7      1   1      3   9\n",
       "sagarmatha   5     10   2      1   2\n",
       "snow         6      7   3      2   6\n",
       "text         9      2   3      3   5\n",
       "trefoil     12      7   2      2   1"
      ],
      "text/html": [
       "<div>\n",
       "<style scoped>\n",
       "    .dataframe tbody tr th:only-of-type {\n",
       "        vertical-align: middle;\n",
       "    }\n",
       "\n",
       "    .dataframe tbody tr th {\n",
       "        vertical-align: top;\n",
       "    }\n",
       "\n",
       "    .dataframe thead th {\n",
       "        text-align: right;\n",
       "    }\n",
       "</style>\n",
       "<table border=\"1\" class=\"dataframe\">\n",
       "  <thead>\n",
       "    <tr style=\"text-align: right;\">\n",
       "      <th>Winner</th>\n",
       "      <th>fs</th>\n",
       "      <th>fs-em</th>\n",
       "      <th>zf</th>\n",
       "      <th>zf-em</th>\n",
       "      <th>x</th>\n",
       "    </tr>\n",
       "  </thead>\n",
       "  <tbody>\n",
       "    <tr>\n",
       "      <th>bedouin</th>\n",
       "      <td>3</td>\n",
       "      <td>5</td>\n",
       "      <td>0</td>\n",
       "      <td>6</td>\n",
       "      <td>6</td>\n",
       "    </tr>\n",
       "    <tr>\n",
       "      <th>botanic</th>\n",
       "      <td>8</td>\n",
       "      <td>3</td>\n",
       "      <td>2</td>\n",
       "      <td>5</td>\n",
       "      <td>3</td>\n",
       "    </tr>\n",
       "    <tr>\n",
       "      <th>calanque</th>\n",
       "      <td>6</td>\n",
       "      <td>5</td>\n",
       "      <td>1</td>\n",
       "      <td>4</td>\n",
       "      <td>5</td>\n",
       "    </tr>\n",
       "    <tr>\n",
       "      <th>calculator</th>\n",
       "      <td>6</td>\n",
       "      <td>5</td>\n",
       "      <td>2</td>\n",
       "      <td>1</td>\n",
       "      <td>8</td>\n",
       "    </tr>\n",
       "    <tr>\n",
       "      <th>carceri</th>\n",
       "      <td>4</td>\n",
       "      <td>7</td>\n",
       "      <td>4</td>\n",
       "      <td>2</td>\n",
       "      <td>3</td>\n",
       "    </tr>\n",
       "    <tr>\n",
       "      <th>cd</th>\n",
       "      <td>5</td>\n",
       "      <td>7</td>\n",
       "      <td>3</td>\n",
       "      <td>4</td>\n",
       "      <td>8</td>\n",
       "    </tr>\n",
       "    <tr>\n",
       "      <th>conch</th>\n",
       "      <td>5</td>\n",
       "      <td>5</td>\n",
       "      <td>7</td>\n",
       "      <td>2</td>\n",
       "      <td>7</td>\n",
       "    </tr>\n",
       "    <tr>\n",
       "      <th>crypt</th>\n",
       "      <td>8</td>\n",
       "      <td>2</td>\n",
       "      <td>3</td>\n",
       "      <td>4</td>\n",
       "      <td>5</td>\n",
       "    </tr>\n",
       "    <tr>\n",
       "      <th>ernte</th>\n",
       "      <td>5</td>\n",
       "      <td>9</td>\n",
       "      <td>1</td>\n",
       "      <td>1</td>\n",
       "      <td>5</td>\n",
       "    </tr>\n",
       "    <tr>\n",
       "      <th>espinasse</th>\n",
       "      <td>11</td>\n",
       "      <td>4</td>\n",
       "      <td>2</td>\n",
       "      <td>2</td>\n",
       "      <td>3</td>\n",
       "    </tr>\n",
       "    <tr>\n",
       "      <th>imaginary</th>\n",
       "      <td>1</td>\n",
       "      <td>4</td>\n",
       "      <td>0</td>\n",
       "      <td>4</td>\n",
       "      <td>10</td>\n",
       "    </tr>\n",
       "    <tr>\n",
       "      <th>lines</th>\n",
       "      <td>8</td>\n",
       "      <td>3</td>\n",
       "      <td>1</td>\n",
       "      <td>2</td>\n",
       "      <td>6</td>\n",
       "    </tr>\n",
       "    <tr>\n",
       "      <th>owls</th>\n",
       "      <td>7</td>\n",
       "      <td>6</td>\n",
       "      <td>0</td>\n",
       "      <td>2</td>\n",
       "      <td>9</td>\n",
       "    </tr>\n",
       "    <tr>\n",
       "      <th>renoir</th>\n",
       "      <td>7</td>\n",
       "      <td>1</td>\n",
       "      <td>1</td>\n",
       "      <td>3</td>\n",
       "      <td>9</td>\n",
       "    </tr>\n",
       "    <tr>\n",
       "      <th>sagarmatha</th>\n",
       "      <td>5</td>\n",
       "      <td>10</td>\n",
       "      <td>2</td>\n",
       "      <td>1</td>\n",
       "      <td>2</td>\n",
       "    </tr>\n",
       "    <tr>\n",
       "      <th>snow</th>\n",
       "      <td>6</td>\n",
       "      <td>7</td>\n",
       "      <td>3</td>\n",
       "      <td>2</td>\n",
       "      <td>6</td>\n",
       "    </tr>\n",
       "    <tr>\n",
       "      <th>text</th>\n",
       "      <td>9</td>\n",
       "      <td>2</td>\n",
       "      <td>3</td>\n",
       "      <td>3</td>\n",
       "      <td>5</td>\n",
       "    </tr>\n",
       "    <tr>\n",
       "      <th>trefoil</th>\n",
       "      <td>12</td>\n",
       "      <td>7</td>\n",
       "      <td>2</td>\n",
       "      <td>2</td>\n",
       "      <td>1</td>\n",
       "    </tr>\n",
       "  </tbody>\n",
       "</table>\n",
       "</div>"
      ]
     },
     "execution_count": 52,
     "metadata": {},
     "output_type": "execute_result"
    }
   ],
   "execution_count": 52
  },
  {
   "metadata": {
    "ExecuteTime": {
     "end_time": "2024-10-27T09:32:03.658376Z",
     "start_time": "2024-10-27T09:32:03.650972Z"
    }
   },
   "cell_type": "code",
   "source": [
    "win_rank = win_mat.mean(axis=\"columns\").rename(\"Column mean\")\n",
    "win_rank"
   ],
   "outputs": [
    {
     "data": {
      "text/plain": [
       "fs       0.709744\n",
       "fs-em    0.569784\n",
       "x        0.621889\n",
       "zf       0.265124\n",
       "zf-em    0.333459\n",
       "Name: Column mean, dtype: float64"
      ]
     },
     "execution_count": 53,
     "metadata": {},
     "output_type": "execute_result"
    }
   ],
   "execution_count": 53
  },
  {
   "metadata": {
    "ExecuteTime": {
     "end_time": "2024-10-27T09:32:03.852805Z",
     "start_time": "2024-10-27T09:32:03.811912Z"
    }
   },
   "cell_type": "code",
   "source": [
    "p_matrix = get_p_matrix(frame, labels)\n",
    "p_matrix"
   ],
   "outputs": [
    {
     "data": {
      "text/plain": [
       "             fs     fs-em         x        zf     zf-em\n",
       "fs     1.000000  0.013531  0.324009  0.000001  0.000311\n",
       "fs-em  0.013531  1.000000  0.855536  0.000022  0.040960\n",
       "x      0.324009  0.855536  1.000000  0.000066  0.000002\n",
       "zf     0.000001  0.000022  0.000066  1.000000  0.377086\n",
       "zf-em  0.000311  0.040960  0.000002  0.377086  1.000000"
      ],
      "text/html": [
       "<div>\n",
       "<style scoped>\n",
       "    .dataframe tbody tr th:only-of-type {\n",
       "        vertical-align: middle;\n",
       "    }\n",
       "\n",
       "    .dataframe tbody tr th {\n",
       "        vertical-align: top;\n",
       "    }\n",
       "\n",
       "    .dataframe thead th {\n",
       "        text-align: right;\n",
       "    }\n",
       "</style>\n",
       "<table border=\"1\" class=\"dataframe\">\n",
       "  <thead>\n",
       "    <tr style=\"text-align: right;\">\n",
       "      <th></th>\n",
       "      <th>fs</th>\n",
       "      <th>fs-em</th>\n",
       "      <th>x</th>\n",
       "      <th>zf</th>\n",
       "      <th>zf-em</th>\n",
       "    </tr>\n",
       "  </thead>\n",
       "  <tbody>\n",
       "    <tr>\n",
       "      <th>fs</th>\n",
       "      <td>1.000000</td>\n",
       "      <td>0.013531</td>\n",
       "      <td>0.324009</td>\n",
       "      <td>0.000001</td>\n",
       "      <td>0.000311</td>\n",
       "    </tr>\n",
       "    <tr>\n",
       "      <th>fs-em</th>\n",
       "      <td>0.013531</td>\n",
       "      <td>1.000000</td>\n",
       "      <td>0.855536</td>\n",
       "      <td>0.000022</td>\n",
       "      <td>0.040960</td>\n",
       "    </tr>\n",
       "    <tr>\n",
       "      <th>x</th>\n",
       "      <td>0.324009</td>\n",
       "      <td>0.855536</td>\n",
       "      <td>1.000000</td>\n",
       "      <td>0.000066</td>\n",
       "      <td>0.000002</td>\n",
       "    </tr>\n",
       "    <tr>\n",
       "      <th>zf</th>\n",
       "      <td>0.000001</td>\n",
       "      <td>0.000022</td>\n",
       "      <td>0.000066</td>\n",
       "      <td>1.000000</td>\n",
       "      <td>0.377086</td>\n",
       "    </tr>\n",
       "    <tr>\n",
       "      <th>zf-em</th>\n",
       "      <td>0.000311</td>\n",
       "      <td>0.040960</td>\n",
       "      <td>0.000002</td>\n",
       "      <td>0.377086</td>\n",
       "      <td>1.000000</td>\n",
       "    </tr>\n",
       "  </tbody>\n",
       "</table>\n",
       "</div>"
      ]
     },
     "execution_count": 54,
     "metadata": {},
     "output_type": "execute_result"
    }
   ],
   "execution_count": 54
  },
  {
   "metadata": {
    "ExecuteTime": {
     "end_time": "2024-10-27T09:32:37.989024Z",
     "start_time": "2024-10-27T09:32:37.139941Z"
    }
   },
   "cell_type": "code",
   "source": [
    "fig = plt.figure()\n",
    "\n",
    "ax = fig.add_subplot(2, 2, 1)\n",
    "\n",
    "axis = np.arange(5)\n",
    "ax.set_xticks(axis)\n",
    "ax.set_yticks(axis)\n",
    "ax.set_xticklabels(np.sort(labels))\n",
    "ax.set_yticklabels(np.sort(labels))\n",
    "\n",
    "z_mat = win_mat.T.apply(lambda x: stats.norm.ppf(x))\n",
    "cax = ax.matshow(z_mat, cmap=plt.get_cmap(\"PiYG\"))\n",
    "fig.colorbar(cax)\n",
    "for x in range(5):\n",
    "    for y in range(5):\n",
    "        c = z_mat[np.sort(labels)[x]][np.sort(labels)[y]]\n",
    "        ax.text(x, y, f\"{c:.2f}\", va='center', ha='center')\n",
    "\n",
    "ax = fig.add_subplot(2, 2, 2)\n",
    "\n",
    "axis = np.arange(5)\n",
    "ax.set_xticks(axis)\n",
    "ax.set_yticks(axis)\n",
    "ax.set_xticklabels(np.sort(labels))\n",
    "ax.set_yticklabels(np.sort(labels))\n",
    "\n",
    "bounds = [0.000003, 0.00003, 0.0003, 0.003, 0.03, 0.3, 1]\n",
    "norm = matplotlib.colors.BoundaryNorm(bounds, plt.get_cmap(\"GnBu\").N, extend='min')\n",
    "\n",
    "cax = ax.matshow(p_matrix, cmap=plt.get_cmap(\"GnBu\"), norm=norm)\n",
    "fig.colorbar(cax)\n",
    "for x in range(5):\n",
    "    for y in range(5):\n",
    "        c = p_matrix[np.sort(labels)[x]][np.sort(labels)[y]]\n",
    "        ax.text(x, y, f\"{c:.0E}\", va='center', ha='center')\n",
    "\n",
    "ax = fig.add_subplot(2, 2, 3)\n",
    "\n",
    "win_rank_sorted = win_rank.sort_values(ascending=False)\n",
    "axis = np.arange(5)\n",
    "ax.set_xticks(axis)\n",
    "ax.set_xticklabels(win_rank_sorted.index)\n",
    "\n",
    "p_ranks = get_p_ranks(frame, win_rank_sorted)\n",
    "rescale = lambda y: (y - np.min(y)) / (np.max(y) - np.min(y))\n",
    "cax = ax.bar(win_rank_sorted.index, win_rank_sorted, yerr=p_ranks ,color=plt.get_cmap(\"PiYG\")(rescale(win_rank_sorted)))\n",
    "ax.bar_label(cax, fmt=\"{0:.2f}\")\n",
    "\n",
    "# ax = fig.add_subplot(2, 2, 4)\n",
    "\n",
    "\n",
    "# axis = np.arange(len(p_ranks.index))\n",
    "# ax.set_xticks(axis)\n",
    "# ax.set_xticklabels(p_ranks.index, rotation=90)\n",
    "# \n",
    "# rescale = lambda y: (y - np.min(y)) / (np.max(y) - np.min(y))\n",
    "# cax = ax.bar(p_ranks.index, p_ranks, color=plt.get_cmap(\"GnBu\")(rescale(win_rank)))\n",
    "# ax.bar_label(cax, fmt=\"{0:.2e}\", rotation=90)\n",
    "\n",
    "# plt.savefig(\"./plots/win_mat.svg\")\n",
    "plt.show()"
   ],
   "outputs": [
    {
     "name": "stdout",
     "output_type": "stream",
     "text": [
      "0.10863866582768666\n",
      "0.10398570948364294\n",
      "0.10621760531163807\n",
      "0.11415168300741257\n"
     ]
    },
    {
     "data": {
      "text/plain": [
       "<Figure size 640x480 with 5 Axes>"
      ],
      "image/png": "[encoded data removed]"
     },
     "metadata": {},
     "output_type": "display_data"
    }
   ],
   "execution_count": 63
  },
  {
   "metadata": {
    "ExecuteTime": {
     "end_time": "2024-10-27T09:32:04.648061Z",
     "start_time": "2024-10-27T09:32:04.524249Z"
    }
   },
   "cell_type": "code",
   "source": [
    "image_frames = []\n",
    "win_rates = []\n",
    "win_ranks = []\n",
    "for image in images:\n",
    "    image_frame = frame.loc[frame[\"Image\"] == image]\n",
    "    image_win_rate = get_winrate(image_frame, labels)\n",
    "    image_win_rank = image_win_rate.sum(axis=\"columns\").rename(\"Score\") / 4.5\n",
    "    \n",
    "    image_frames.append(image_frame)\n",
    "    win_rates.append(image_win_rate)\n",
    "    win_ranks.append(image_win_rank)"
   ],
   "outputs": [],
   "execution_count": 56
  },
  {
   "metadata": {
    "ExecuteTime": {
     "end_time": "2024-10-27T09:32:05.586161Z",
     "start_time": "2024-10-27T09:32:04.650069Z"
    }
   },
   "cell_type": "code",
   "source": [
    "matplotlib.rcParams.update({'font.size': 6})\n",
    "\n",
    "fig = plt.figure()\n",
    "\n",
    "for i in range(len(labels)):\n",
    "    \n",
    "    ax = fig.add_subplot(1, 5, i + 1)\n",
    "    ax.set_title(labels[i])\n",
    "    \n",
    "    axis = np.arange(len(img_mat.index))\n",
    "    ax.set_xticks(axis)\n",
    "    ax.set_yticks([])\n",
    "    ax.set_xticklabels(img_mat.index, rotation=90)\n",
    "    \n",
    "    cax = ax.bar(img_mat.index, img_mat[labels[i]])\n",
    "    ax.bar_label(cax, fmt=\"{0:.0f}\", rotation=90)\n",
    "    # plt.savefig(\"./plots/win_mat.svg\")\n",
    "    \n",
    "plt.tight_layout()\n",
    "plt.show()\n",
    "# matrix"
   ],
   "outputs": [
    {
     "data": {
      "text/plain": [
       "<Figure size 640x480 with 5 Axes>"
      ],
      "image/png": "[encoded data removed]"
     },
     "metadata": {},
     "output_type": "display_data"
    }
   ],
   "execution_count": 57
  },
  {
   "metadata": {
    "ExecuteTime": {
     "end_time": "2024-10-27T09:32:05.591966Z",
     "start_time": "2024-10-27T09:32:05.589170Z"
    }
   },
   "cell_type": "code",
   "source": "",
   "outputs": [],
   "execution_count": 57
  }
 ],
 "metadata": {
  "kernelspec": {
   "display_name": ".venv",
   "language": "python",
   "name": "python3"
  },
  "language_info": {
   "codemirror_mode": {
    "name": "ipython",
    "version": 3
   },
   "file_extension": ".py",
   "mimetype": "text/x-python",
   "name": "python",
   "nbconvert_exporter": "python",
   "pygments_lexer": "ipython3",
   "version": "3.12.4"
  }
 },
 "nbformat": 4,
 "nbformat_minor": 2
}
