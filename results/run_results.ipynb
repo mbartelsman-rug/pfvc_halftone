{
 "cells": [
  {
   "cell_type": "code",
   "metadata": {
    "ExecuteTime": {
     "end_time": "2024-10-23T08:47:53.939954Z",
     "start_time": "2024-10-23T08:47:53.918537Z"
    }
   },
   "source": [
    "import json\n",
    "import os\n",
    "import pandas as pd\n",
    "import numpy as np\n",
    "\n",
    "labels = [\"fs\", \"fs-em\", \"zf\", \"zf-em\", \"x\"]\n",
    "label_indices = {\n",
    "    \"fs\": 0,\n",
    "    \"fs-em\": 1,\n",
    "    \"zf\": 2,\n",
    "    \"zf-em\": 3,\n",
    "    \"x\": 4,\n",
    "}\n",
    "\n",
    "all_paths = []\n",
    "for path in os.listdir(\"./data\"):\n",
    "    if not os.path.isdir(path):\n",
    "        all_paths.append(\"./data/\" + path)\n",
    "        \n",
    "all_data = []\n",
    "for path in all_paths:\n",
    "    print(path)\n",
    "    with open(path, \"r\") as f:\n",
    "        data = json.load(f)\n",
    "        all_data.append(data)\n",
    "\n",
    "chosen_matrix = np.zeros((len(labels), len(labels)))\n",
    "count_matrix = np.zeros((len(labels), len(labels)))\n",
    "for data in all_data:\n",
    "    for task in data:\n",
    "        left_id = label_indices[task[\"left\"]]\n",
    "        right_id = label_indices[task[\"right\"]]\n",
    "        chosen_matrix[left_id, right_id] += 1 if task[\"choice\"] == 0 else 0\n",
    "        count_matrix[left_id, right_id] += 1\n",
    "        \n",
    "prob_matrix = chosen_matrix / count_matrix\n",
    "print(chosen_matrix)\n",
    "print(count_matrix)\n",
    "print(prob_matrix)"
   ],
   "outputs": [
    {
     "name": "stdout",
     "output_type": "stream",
     "text": [
      "./data/002.json\n",
      "./data/003.json\n",
      "./data/004.json\n",
      "./data/005.json\n",
      "[[ 2.  7. 10.  3.  7.]\n",
      " [ 4.  2. 13.  7.  6.]\n",
      " [ 1.  0.  2.  4.  0.]\n",
      " [ 1.  2.  4.  1.  1.]\n",
      " [ 4.  3.  9. 14.  1.]]\n",
      "[[ 5. 10. 10.  5. 12.]\n",
      " [ 8.  5. 14.  9.  9.]\n",
      " [15.  7.  5. 12. 10.]\n",
      " [ 9. 10.  6.  5.  5.]\n",
      " [10.  9. 10. 15.  5.]]\n",
      "[[0.4        0.7        1.         0.6        0.58333333]\n",
      " [0.5        0.4        0.92857143 0.77777778 0.66666667]\n",
      " [0.06666667 0.         0.4        0.33333333 0.        ]\n",
      " [0.11111111 0.2        0.66666667 0.2        0.2       ]\n",
      " [0.4        0.33333333 0.9        0.93333333 0.2       ]]\n"
     ]
    }
   ],
   "execution_count": 8
  }
 ],
 "metadata": {
  "language_info": {
   "name": "python"
  },
  "kernelspec": {
   "name": "python3",
   "language": "python",
   "display_name": "Python 3 (ipykernel)"
  }
 },
 "nbformat": 4,
 "nbformat_minor": 2
}
