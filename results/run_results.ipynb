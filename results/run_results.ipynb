{
 "cells": [
  {
   "cell_type": "code",
   "execution_count": 26,
   "metadata": {
    "ExecuteTime": {
     "end_time": "2024-10-24T09:00:41.969520Z",
     "start_time": "2024-10-24T09:00:41.966964Z"
    }
   },
   "outputs": [],
   "source": [
    "import json\n",
    "import os\n",
    "\n",
    "import matplotlib\n",
    "import numpy as np\n",
    "import pandas as pd\n",
    "import matplotlib.pyplot as plt"
   ]
  },
  {
   "cell_type": "code",
   "execution_count": 27,
   "metadata": {
    "ExecuteTime": {
     "end_time": "2024-10-24T09:00:41.977342Z",
     "start_time": "2024-10-24T09:00:41.972518Z"
    }
   },
   "outputs": [
    {
     "name": "stdout",
     "output_type": "stream",
     "text": [
      "./data/002.json\n",
      "./data/003.json\n",
      "./data/004.json\n",
      "./data/005.json\n",
      "./data/006.json\n",
      "./data/007.json\n",
      "./data/008.json\n",
      "./data/009.json\n"
     ]
    }
   ],
   "source": [
    "labels = [\"fs\", \"fs-em\", \"zf\", \"zf-em\", \"x\"]\n",
    "\n",
    "label_indices = {\n",
    "    \"fs\": 0,\n",
    "    \"fs-em\": 1,\n",
    "    \"zf\": 2,\n",
    "    \"zf-em\": 3,\n",
    "    \"x\": 4,\n",
    "}\n",
    "\n",
    "all_paths = []\n",
    "for path in os.listdir(\"./data\"):\n",
    "    if not os.path.isdir(\"./data/\" + path):\n",
    "        all_paths.append(\"./data/\" + path)\n",
    "        \n",
    "all_data = []\n",
    "for path in all_paths:\n",
    "    print(path)\n",
    "    with open(path, \"r\") as f:\n",
    "        data = json.load(f)\n",
    "        all_data.append(data)"
   ]
  },
  {
   "cell_type": "code",
   "execution_count": 34,
   "metadata": {
    "ExecuteTime": {
     "end_time": "2024-10-24T19:28:49.785658Z",
     "start_time": "2024-10-24T19:28:49.633155Z"
    }
   },
   "outputs": [
    {
     "data": {
      "image/png": "[encoded data removed]",
      "text/plain": [
       "<Figure size 640x480 with 5 Axes>"
      ]
     },
     "metadata": {},
     "output_type": "display_data"
    },
    {
     "data": {
      "text/html": [
       "<div>\n",
       "<style scoped>\n",
       "    .dataframe tbody tr th:only-of-type {\n",
       "        vertical-align: middle;\n",
       "    }\n",
       "\n",
       "    .dataframe tbody tr th {\n",
       "        vertical-align: top;\n",
       "    }\n",
       "\n",
       "    .dataframe thead th {\n",
       "        text-align: right;\n",
       "    }\n",
       "</style>\n",
       "<table border=\"1\" class=\"dataframe\">\n",
       "  <thead>\n",
       "    <tr style=\"text-align: right;\">\n",
       "      <th>Loser</th>\n",
       "      <th>fs</th>\n",
       "      <th>fs-em</th>\n",
       "      <th>zf</th>\n",
       "      <th>zf-em</th>\n",
       "      <th>x</th>\n",
       "    </tr>\n",
       "  </thead>\n",
       "  <tbody>\n",
       "    <tr>\n",
       "      <th>fs</th>\n",
       "      <td>0.500000</td>\n",
       "      <td>0.724138</td>\n",
       "      <td>0.861111</td>\n",
       "      <td>0.840000</td>\n",
       "      <td>0.558824</td>\n",
       "    </tr>\n",
       "    <tr>\n",
       "      <th>fs-em</th>\n",
       "      <td>0.275862</td>\n",
       "      <td>0.500000</td>\n",
       "      <td>0.848485</td>\n",
       "      <td>0.656250</td>\n",
       "      <td>0.571429</td>\n",
       "    </tr>\n",
       "    <tr>\n",
       "      <th>zf</th>\n",
       "      <td>0.138889</td>\n",
       "      <td>0.151515</td>\n",
       "      <td>0.500000</td>\n",
       "      <td>0.464286</td>\n",
       "      <td>0.166667</td>\n",
       "    </tr>\n",
       "    <tr>\n",
       "      <th>zf-em</th>\n",
       "      <td>0.160000</td>\n",
       "      <td>0.343750</td>\n",
       "      <td>0.535714</td>\n",
       "      <td>0.500000</td>\n",
       "      <td>0.125000</td>\n",
       "    </tr>\n",
       "    <tr>\n",
       "      <th>x</th>\n",
       "      <td>0.441176</td>\n",
       "      <td>0.428571</td>\n",
       "      <td>0.833333</td>\n",
       "      <td>0.875000</td>\n",
       "      <td>0.500000</td>\n",
       "    </tr>\n",
       "  </tbody>\n",
       "</table>\n",
       "</div>"
      ],
      "text/plain": [
       "Loser        fs     fs-em        zf     zf-em         x\n",
       "fs     0.500000  0.724138  0.861111  0.840000  0.558824\n",
       "fs-em  0.275862  0.500000  0.848485  0.656250  0.571429\n",
       "zf     0.138889  0.151515  0.500000  0.464286  0.166667\n",
       "zf-em  0.160000  0.343750  0.535714  0.500000  0.125000\n",
       "x      0.441176  0.428571  0.833333  0.875000  0.500000"
      ]
     },
     "execution_count": 34,
     "metadata": {},
     "output_type": "execute_result"
    }
   ],
   "source": [
    "frame = {\n",
    "    \"Winner\": dict(),\n",
    "    \"Loser\": dict(),\n",
    "}\n",
    "\n",
    "i = 0\n",
    "for data in all_data:\n",
    "    for task in data:\n",
    "        if task[\"choice\"] is None:\n",
    "            continue\n",
    "        \n",
    "        frame[\"Winner\"][i] = task[\"left\"] if task[\"choice\"] == 0 else task[\"right\"]\n",
    "        frame[\"Loser\"][i] = task[\"left\"] if task[\"choice\"] == 1 else task[\"right\"]\n",
    "        i += 1\n",
    "        \n",
    "frame = pd.DataFrame(frame)\n",
    "bools = frame.pivot(columns=['Loser'], values=['Winner']).droplevel(0, axis=1).reindex(labels, axis=1).notna()\n",
    "bools.index = bools.index.map(frame['Winner'])\n",
    "summed_on_idx = bools.groupby(bools.index).sum().reindex(labels).fillna(0)\n",
    "avg_on_idx = bools.groupby(bools.index).mean().reindex(labels).fillna(0)\n",
    "std_on_idx = bools.groupby(bools.index).std().reindex(labels).fillna(0)\n",
    "matrix = summed_on_idx / summed_on_idx.add(summed_on_idx.T)\n",
    "matrix_z = ((summed_on_idx / summed_on_idx.add(summed_on_idx.T)) - avg_on_idx) / std_on_idx\n",
    "sums = matrix_z.sum(axis=1)\n",
    "\n",
    "fig = plt.figure()\n",
    "ax = fig.add_subplot(2, 2, 1)\n",
    "cax = ax.matshow(matrix, cmap=plt.get_cmap(\"PiYG\"))\n",
    "fig.colorbar(cax)   \n",
    "\n",
    "ax = fig.add_subplot(2, 2, 2)\n",
    "cax = ax.matshow(matrix_z, cmap=plt.get_cmap(\"PiYG\"))\n",
    "fig.colorbar(cax)   \n",
    "\n",
    "xaxis = np.arange(5)\n",
    "ax.set_xticks(xaxis)\n",
    "ax.set_yticks(xaxis)\n",
    "ax.set_xticklabels(labels)\n",
    "ax.set_yticklabels(labels)\n",
    "\n",
    "ax = fig.add_subplot(2, 1, 2)\n",
    "cax = ax.imshow(np.expand_dims(sums, axis=0), cmap=plt.get_cmap(\"PiYG\"))\n",
    "\n",
    "plt.savefig(\"./plots/win_mat.svg\")\n",
    "plt.show()\n",
    "matrix"
   ]
  }
 ],
 "metadata": {
  "kernelspec": {
   "display_name": ".venv",
   "language": "python",
   "name": "python3"
  },
  "language_info": {
   "codemirror_mode": {
    "name": "ipython",
    "version": 3
   },
   "file_extension": ".py",
   "mimetype": "text/x-python",
   "name": "python",
   "nbconvert_exporter": "python",
   "pygments_lexer": "ipython3",
   "version": "3.12.4"
  }
 },
 "nbformat": 4,
 "nbformat_minor": 2
}
